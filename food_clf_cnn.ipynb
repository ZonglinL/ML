{
 "cells": [
  {
   "cell_type": "code",
   "id": "initial_id",
   "metadata": {
    "collapsed": true,
    "ExecuteTime": {
     "end_time": "2025-04-23T15:22:25.014718Z",
     "start_time": "2025-04-23T15:22:24.202827Z"
    }
   },
   "source": [
    "import pandas as pd\n",
    "\n",
    "# replace with actual paths to your data\n",
    "train_data = pd.read_csv('food_train.csv')\n",
    "test_data = pd.read_csv('food_test.csv')\n"
   ],
   "outputs": [],
   "execution_count": 1
  },
  {
   "metadata": {
    "ExecuteTime": {
     "end_time": "2025-04-23T15:22:25.041055Z",
     "start_time": "2025-04-23T15:22:25.029621Z"
    }
   },
   "cell_type": "code",
   "source": "test_data",
   "id": "9e720a5e309bb882",
   "outputs": [
    {
     "data": {
      "text/plain": [
       "                                                    Text  Score\n",
       "0      I just recently have gone gluten free and miss...      4\n",
       "1      I had been eying the Popchips brand for some t...      2\n",
       "2      Over the last year our so, we've discovered th...      5\n",
       "3      I'm sorry. It must be that the bacon was almos...      1\n",
       "4      I'm not a huge fan of spicy foods but I love t...      2\n",
       "...                                                  ...    ...\n",
       "29764  The package promises that avacado oil has nutr...      4\n",
       "29765  Where r they? Bought the machine and can't fin...      1\n",
       "29766  Tried these when Amazon had them on sale.  Ple...      5\n",
       "29767  I think that with most of these baby foods it ...      5\n",
       "29768  Know what you are getting here.  These Ambroso...      3\n",
       "\n",
       "[29769 rows x 2 columns]"
      ],
      "text/html": [
       "<div>\n",
       "<style scoped>\n",
       "    .dataframe tbody tr th:only-of-type {\n",
       "        vertical-align: middle;\n",
       "    }\n",
       "\n",
       "    .dataframe tbody tr th {\n",
       "        vertical-align: top;\n",
       "    }\n",
       "\n",
       "    .dataframe thead th {\n",
       "        text-align: right;\n",
       "    }\n",
       "</style>\n",
       "<table border=\"1\" class=\"dataframe\">\n",
       "  <thead>\n",
       "    <tr style=\"text-align: right;\">\n",
       "      <th></th>\n",
       "      <th>Text</th>\n",
       "      <th>Score</th>\n",
       "    </tr>\n",
       "  </thead>\n",
       "  <tbody>\n",
       "    <tr>\n",
       "      <th>0</th>\n",
       "      <td>I just recently have gone gluten free and miss...</td>\n",
       "      <td>4</td>\n",
       "    </tr>\n",
       "    <tr>\n",
       "      <th>1</th>\n",
       "      <td>I had been eying the Popchips brand for some t...</td>\n",
       "      <td>2</td>\n",
       "    </tr>\n",
       "    <tr>\n",
       "      <th>2</th>\n",
       "      <td>Over the last year our so, we've discovered th...</td>\n",
       "      <td>5</td>\n",
       "    </tr>\n",
       "    <tr>\n",
       "      <th>3</th>\n",
       "      <td>I'm sorry. It must be that the bacon was almos...</td>\n",
       "      <td>1</td>\n",
       "    </tr>\n",
       "    <tr>\n",
       "      <th>4</th>\n",
       "      <td>I'm not a huge fan of spicy foods but I love t...</td>\n",
       "      <td>2</td>\n",
       "    </tr>\n",
       "    <tr>\n",
       "      <th>...</th>\n",
       "      <td>...</td>\n",
       "      <td>...</td>\n",
       "    </tr>\n",
       "    <tr>\n",
       "      <th>29764</th>\n",
       "      <td>The package promises that avacado oil has nutr...</td>\n",
       "      <td>4</td>\n",
       "    </tr>\n",
       "    <tr>\n",
       "      <th>29765</th>\n",
       "      <td>Where r they? Bought the machine and can't fin...</td>\n",
       "      <td>1</td>\n",
       "    </tr>\n",
       "    <tr>\n",
       "      <th>29766</th>\n",
       "      <td>Tried these when Amazon had them on sale.  Ple...</td>\n",
       "      <td>5</td>\n",
       "    </tr>\n",
       "    <tr>\n",
       "      <th>29767</th>\n",
       "      <td>I think that with most of these baby foods it ...</td>\n",
       "      <td>5</td>\n",
       "    </tr>\n",
       "    <tr>\n",
       "      <th>29768</th>\n",
       "      <td>Know what you are getting here.  These Ambroso...</td>\n",
       "      <td>3</td>\n",
       "    </tr>\n",
       "  </tbody>\n",
       "</table>\n",
       "<p>29769 rows × 2 columns</p>\n",
       "</div>"
      ]
     },
     "execution_count": 2,
     "metadata": {},
     "output_type": "execute_result"
    }
   ],
   "execution_count": 2
  },
  {
   "metadata": {
    "ExecuteTime": {
     "end_time": "2025-04-23T15:22:25.173114Z",
     "start_time": "2025-04-23T15:22:25.170482Z"
    }
   },
   "cell_type": "code",
   "source": [
    "# extract text and score from data\n",
    "X_train = train_data.Text\n",
    "y_train = train_data.Score\n",
    "X_test = test_data.Text\n",
    "y_test = test_data.Score"
   ],
   "id": "38751dfbc64c4e59",
   "outputs": [],
   "execution_count": 3
  },
  {
   "metadata": {
    "ExecuteTime": {
     "end_time": "2025-04-23T15:22:25.236051Z",
     "start_time": "2025-04-23T15:22:25.230954Z"
    }
   },
   "cell_type": "code",
   "source": [
    "# transform score from 1-5 to 0-4\n",
    "y_train = y_train - 1\n",
    "y_test = y_test - 1\n",
    "y_train"
   ],
   "id": "eb973f14eabe1e7",
   "outputs": [
    {
     "data": {
      "text/plain": [
       "0         2\n",
       "1         4\n",
       "2         1\n",
       "3         3\n",
       "4         0\n",
       "         ..\n",
       "119071    4\n",
       "119072    3\n",
       "119073    2\n",
       "119074    4\n",
       "119075    4\n",
       "Name: Score, Length: 119076, dtype: int64"
      ]
     },
     "execution_count": 4,
     "metadata": {},
     "output_type": "execute_result"
    }
   ],
   "execution_count": 4
  },
  {
   "metadata": {
    "ExecuteTime": {
     "end_time": "2025-04-23T15:22:36.963236Z",
     "start_time": "2025-04-23T15:22:25.302509Z"
    }
   },
   "cell_type": "code",
   "source": [
    "# Tokenizing text\n",
    "from tensorflow.keras.preprocessing.text import Tokenizer\n",
    "tokenizer = Tokenizer(num_words=80000)\n",
    "tokenizer.fit_on_texts(X_train)\n",
    "\n",
    "X_train_token = tokenizer.texts_to_sequences(X_train)\n",
    "X_test_token = tokenizer.texts_to_sequences(X_test)"
   ],
   "id": "d3b72f3d72648003",
   "outputs": [
    {
     "name": "stderr",
     "output_type": "stream",
     "text": [
      "2025-04-23 11:22:25.324981: I tensorflow/core/platform/cpu_feature_guard.cc:193] This TensorFlow binary is optimized with oneAPI Deep Neural Network Library (oneDNN) to use the following CPU instructions in performance-critical operations:  SSE4.1 SSE4.2 AVX AVX2 FMA\n",
      "To enable them in other operations, rebuild TensorFlow with the appropriate compiler flags.\n"
     ]
    }
   ],
   "execution_count": 5
  },
  {
   "metadata": {
    "ExecuteTime": {
     "end_time": "2025-04-23T15:22:36.997707Z",
     "start_time": "2025-04-23T15:22:36.994757Z"
    }
   },
   "cell_type": "code",
   "source": [
    "import tensorflow\n",
    "from tensorflow.keras import layers\n",
    "from tensorflow.keras.models import Sequential\n",
    "from tensorflow.keras.preprocessing.sequence import pad_sequences"
   ],
   "id": "97772f4ade5bf05e",
   "outputs": [],
   "execution_count": 6
  },
  {
   "metadata": {
    "ExecuteTime": {
     "end_time": "2025-04-23T15:22:37.760696Z",
     "start_time": "2025-04-23T15:22:37.037370Z"
    }
   },
   "cell_type": "code",
   "source": [
    "# Sequence padding\n",
    "sequence_len = 300\n",
    "X_train_token = pad_sequences(X_train_token, padding='post', maxlen=sequence_len)\n",
    "X_test_token = pad_sequences(X_test_token, padding='post', maxlen=sequence_len)"
   ],
   "id": "2b873c7c2ef89fdc",
   "outputs": [],
   "execution_count": 7
  },
  {
   "metadata": {
    "ExecuteTime": {
     "end_time": "2025-04-23T15:22:38.437515Z",
     "start_time": "2025-04-23T15:22:37.790250Z"
    }
   },
   "cell_type": "code",
   "source": [
    "embedding_dim = 250\n",
    "vocab_size = len(tokenizer.index_word) + 1\n",
    "\n",
    "# Initialize model\n",
    "model = Sequential()\n",
    "model.add(layers.Embedding(input_dim=vocab_size, output_dim=embedding_dim))\n",
    "model.add(layers.Conv1D(filters=128, kernel_size=5, activation='relu'))\n",
    "model.add(layers.GlobalMaxPool1D())\n",
    "model.add(layers.BatchNormalization())\n",
    "model.add(layers.Dropout(0.3))\n",
    "model.add(layers.Dense(256, activation='relu'))\n",
    "model.add(layers.Dropout(0.5))\n",
    "model.add(layers.Dense(256, activation='relu'))\n",
    "model.add(layers.Dropout(0.2))\n",
    "model.add(layers.Dense(64, activation='relu'))\n",
    "model.add(layers.Dense(5, activation='softmax'))"
   ],
   "id": "213d9732e7222eff",
   "outputs": [
    {
     "name": "stderr",
     "output_type": "stream",
     "text": [
      "2025-04-23 11:22:37.834607: I tensorflow/compiler/xla/stream_executor/cuda/cuda_gpu_executor.cc:981] successful NUMA node read from SysFS had negative value (-1), but there must be at least one NUMA node, so returning NUMA node zero\n",
      "2025-04-23 11:22:37.997151: I tensorflow/compiler/xla/stream_executor/cuda/cuda_gpu_executor.cc:981] successful NUMA node read from SysFS had negative value (-1), but there must be at least one NUMA node, so returning NUMA node zero\n",
      "2025-04-23 11:22:37.998633: I tensorflow/compiler/xla/stream_executor/cuda/cuda_gpu_executor.cc:981] successful NUMA node read from SysFS had negative value (-1), but there must be at least one NUMA node, so returning NUMA node zero\n",
      "2025-04-23 11:22:38.000971: I tensorflow/core/platform/cpu_feature_guard.cc:193] This TensorFlow binary is optimized with oneAPI Deep Neural Network Library (oneDNN) to use the following CPU instructions in performance-critical operations:  SSE4.1 SSE4.2 AVX AVX2 FMA\n",
      "To enable them in other operations, rebuild TensorFlow with the appropriate compiler flags.\n",
      "2025-04-23 11:22:38.001489: I tensorflow/compiler/xla/stream_executor/cuda/cuda_gpu_executor.cc:981] successful NUMA node read from SysFS had negative value (-1), but there must be at least one NUMA node, so returning NUMA node zero\n",
      "2025-04-23 11:22:38.002879: I tensorflow/compiler/xla/stream_executor/cuda/cuda_gpu_executor.cc:981] successful NUMA node read from SysFS had negative value (-1), but there must be at least one NUMA node, so returning NUMA node zero\n",
      "2025-04-23 11:22:38.004200: I tensorflow/compiler/xla/stream_executor/cuda/cuda_gpu_executor.cc:981] successful NUMA node read from SysFS had negative value (-1), but there must be at least one NUMA node, so returning NUMA node zero\n",
      "2025-04-23 11:22:38.230242: I tensorflow/compiler/xla/stream_executor/cuda/cuda_gpu_executor.cc:981] successful NUMA node read from SysFS had negative value (-1), but there must be at least one NUMA node, so returning NUMA node zero\n",
      "2025-04-23 11:22:38.231705: I tensorflow/compiler/xla/stream_executor/cuda/cuda_gpu_executor.cc:981] successful NUMA node read from SysFS had negative value (-1), but there must be at least one NUMA node, so returning NUMA node zero\n",
      "2025-04-23 11:22:38.233447: I tensorflow/compiler/xla/stream_executor/cuda/cuda_gpu_executor.cc:981] successful NUMA node read from SysFS had negative value (-1), but there must be at least one NUMA node, so returning NUMA node zero\n",
      "2025-04-23 11:22:38.235252: I tensorflow/core/common_runtime/gpu/gpu_device.cc:1613] Created device /job:localhost/replica:0/task:0/device:GPU:0 with 1964 MB memory:  -> device: 0, name: NVIDIA TITAN RTX, pci bus id: 0000:01:00.0, compute capability: 7.5\n"
     ]
    }
   ],
   "execution_count": 8
  },
  {
   "metadata": {
    "ExecuteTime": {
     "end_time": "2025-04-23T15:22:38.492552Z",
     "start_time": "2025-04-23T15:22:38.460457Z"
    }
   },
   "cell_type": "code",
   "source": [
    "# Set up optimizer and other parameters/settings\n",
    "model.compile(\n",
    "    optimizer=tensorflow.keras.optimizers.experimental.AdamW(),\n",
    "    loss='sparse_categorical_crossentropy',\n",
    "    metrics=[\n",
    "        'accuracy'\n",
    "    ]\n",
    ")\n",
    "model.summary()\n"
   ],
   "id": "d2a89a2674325292",
   "outputs": [
    {
     "name": "stdout",
     "output_type": "stream",
     "text": [
      "Model: \"sequential\"\n",
      "_________________________________________________________________\n",
      " Layer (type)                Output Shape              Param #   \n",
      "=================================================================\n",
      " embedding (Embedding)       (None, None, 250)         16538250  \n",
      "                                                                 \n",
      " conv1d (Conv1D)             (None, None, 128)         160128    \n",
      "                                                                 \n",
      " global_max_pooling1d (Globa  (None, 128)              0         \n",
      " lMaxPooling1D)                                                  \n",
      "                                                                 \n",
      " batch_normalization (BatchN  (None, 128)              512       \n",
      " ormalization)                                                   \n",
      "                                                                 \n",
      " dropout (Dropout)           (None, 128)               0         \n",
      "                                                                 \n",
      " dense (Dense)               (None, 256)               33024     \n",
      "                                                                 \n",
      " dropout_1 (Dropout)         (None, 256)               0         \n",
      "                                                                 \n",
      " dense_1 (Dense)             (None, 256)               65792     \n",
      "                                                                 \n",
      " dropout_2 (Dropout)         (None, 256)               0         \n",
      "                                                                 \n",
      " dense_2 (Dense)             (None, 64)                16448     \n",
      "                                                                 \n",
      " dense_3 (Dense)             (None, 5)                 325       \n",
      "                                                                 \n",
      "=================================================================\n",
      "Total params: 16,814,479\n",
      "Trainable params: 16,814,223\n",
      "Non-trainable params: 256\n",
      "_________________________________________________________________\n"
     ]
    }
   ],
   "execution_count": 9
  },
  {
   "metadata": {
    "ExecuteTime": {
     "end_time": "2025-04-23T16:09:07.111830Z",
     "start_time": "2025-04-23T15:22:38.554490Z"
    }
   },
   "cell_type": "code",
   "source": [
    "# Train\n",
    "history = model.fit(X_train_token,\n",
    "                    y_train,\n",
    "                    epochs=20,\n",
    "                    validation_split=0.2,\n",
    "                    batch_size=8,\n",
    "                    verbose=1)"
   ],
   "id": "ce8a8b88e70caec1",
   "outputs": [
    {
     "name": "stdout",
     "output_type": "stream",
     "text": [
      "Epoch 1/20\n"
     ]
    },
    {
     "name": "stderr",
     "output_type": "stream",
     "text": [
      "2025-04-23 11:22:39.841855: I tensorflow/compiler/xla/stream_executor/cuda/cuda_dnn.cc:428] Loaded cuDNN version 8902\n",
      "2025-04-23 11:22:40.606667: I tensorflow/compiler/xla/service/service.cc:173] XLA service 0x735877d4ed80 initialized for platform CUDA (this does not guarantee that XLA will be used). Devices:\n",
      "2025-04-23 11:22:40.606693: I tensorflow/compiler/xla/service/service.cc:181]   StreamExecutor device (0): NVIDIA TITAN RTX, Compute Capability 7.5\n",
      "2025-04-23 11:22:40.636964: I tensorflow/compiler/mlir/tensorflow/utils/dump_mlir_util.cc:268] disabling MLIR crash reproducer, set env var `MLIR_CRASH_REPRODUCER_DIRECTORY` to enable.\n",
      "2025-04-23 11:22:40.879388: I tensorflow/compiler/jit/xla_compilation_cache.cc:477] Compiled cluster using XLA!  This line is logged at most once for the lifetime of the process.\n"
     ]
    },
    {
     "name": "stdout",
     "output_type": "stream",
     "text": [
      "11908/11908 [==============================] - 198s 16ms/step - loss: 1.2817 - accuracy: 0.4416 - val_loss: 1.0722 - val_accuracy: 0.5484\n",
      "Epoch 2/20\n",
      "11908/11908 [==============================] - 140s 12ms/step - loss: 1.1334 - accuracy: 0.5193 - val_loss: 1.0249 - val_accuracy: 0.5719\n",
      "Epoch 3/20\n",
      "11908/11908 [==============================] - 141s 12ms/step - loss: 1.0591 - accuracy: 0.5562 - val_loss: 0.9896 - val_accuracy: 0.5974\n",
      "Epoch 4/20\n",
      "11908/11908 [==============================] - 137s 12ms/step - loss: 0.9966 - accuracy: 0.5887 - val_loss: 0.9604 - val_accuracy: 0.6125\n",
      "Epoch 5/20\n",
      "11908/11908 [==============================] - 138s 12ms/step - loss: 0.9395 - accuracy: 0.6178 - val_loss: 0.9443 - val_accuracy: 0.6181\n",
      "Epoch 6/20\n",
      "11908/11908 [==============================] - 136s 11ms/step - loss: 0.8915 - accuracy: 0.6423 - val_loss: 0.9243 - val_accuracy: 0.6330\n",
      "Epoch 7/20\n",
      "11908/11908 [==============================] - 139s 12ms/step - loss: 0.8451 - accuracy: 0.6645 - val_loss: 0.9378 - val_accuracy: 0.6240\n",
      "Epoch 8/20\n",
      "11908/11908 [==============================] - 139s 12ms/step - loss: 0.8028 - accuracy: 0.6833 - val_loss: 0.9288 - val_accuracy: 0.6304\n",
      "Epoch 9/20\n",
      "11908/11908 [==============================] - 138s 12ms/step - loss: 0.7648 - accuracy: 0.7016 - val_loss: 0.9362 - val_accuracy: 0.6308\n",
      "Epoch 10/20\n",
      "11908/11908 [==============================] - 142s 12ms/step - loss: 0.7327 - accuracy: 0.7171 - val_loss: 0.9359 - val_accuracy: 0.6363\n",
      "Epoch 11/20\n",
      "11908/11908 [==============================] - 136s 11ms/step - loss: 0.7004 - accuracy: 0.7320 - val_loss: 0.9450 - val_accuracy: 0.6310\n",
      "Epoch 12/20\n",
      "11908/11908 [==============================] - 133s 11ms/step - loss: 0.6750 - accuracy: 0.7421 - val_loss: 0.9426 - val_accuracy: 0.6394\n",
      "Epoch 13/20\n",
      "11908/11908 [==============================] - 133s 11ms/step - loss: 0.6512 - accuracy: 0.7525 - val_loss: 0.9346 - val_accuracy: 0.6355\n",
      "Epoch 14/20\n",
      "11908/11908 [==============================] - 130s 11ms/step - loss: 0.6223 - accuracy: 0.7666 - val_loss: 0.9446 - val_accuracy: 0.6416\n",
      "Epoch 15/20\n",
      "11908/11908 [==============================] - 133s 11ms/step - loss: 0.6085 - accuracy: 0.7717 - val_loss: 0.9552 - val_accuracy: 0.6463\n",
      "Epoch 16/20\n",
      "11908/11908 [==============================] - 136s 11ms/step - loss: 0.5871 - accuracy: 0.7837 - val_loss: 0.9732 - val_accuracy: 0.6410\n",
      "Epoch 17/20\n",
      "11908/11908 [==============================] - 137s 12ms/step - loss: 0.5678 - accuracy: 0.7881 - val_loss: 0.9540 - val_accuracy: 0.6399\n",
      "Epoch 18/20\n",
      "11908/11908 [==============================] - 137s 11ms/step - loss: 0.5582 - accuracy: 0.7944 - val_loss: 0.9465 - val_accuracy: 0.6440\n",
      "Epoch 19/20\n",
      "11908/11908 [==============================] - 131s 11ms/step - loss: 0.5356 - accuracy: 0.8035 - val_loss: 0.9957 - val_accuracy: 0.6434\n",
      "Epoch 20/20\n",
      "11908/11908 [==============================] - 134s 11ms/step - loss: 0.5219 - accuracy: 0.8097 - val_loss: 0.9696 - val_accuracy: 0.6433\n"
     ]
    }
   ],
   "execution_count": 10
  },
  {
   "metadata": {
    "ExecuteTime": {
     "end_time": "2025-04-23T16:09:11.670914Z",
     "start_time": "2025-04-23T16:09:07.160838Z"
    }
   },
   "cell_type": "code",
   "source": [
    "# Get model's prediction on test data\n",
    "y_pred = model.predict(X_test_token)"
   ],
   "id": "75d0cb4d46d1c697",
   "outputs": [
    {
     "name": "stdout",
     "output_type": "stream",
     "text": [
      "931/931 [==============================] - 4s 4ms/step\n"
     ]
    }
   ],
   "execution_count": 11
  },
  {
   "metadata": {
    "ExecuteTime": {
     "end_time": "2025-04-23T16:09:11.682440Z",
     "start_time": "2025-04-23T16:09:11.676625Z"
    }
   },
   "cell_type": "code",
   "source": [
    "# Peek at prediction\n",
    "y_pred"
   ],
   "id": "a83fd0f094da2a1b",
   "outputs": [
    {
     "data": {
      "text/plain": [
       "array([[8.8171975e-05, 5.0940149e-04, 1.6990084e-02, 8.5274661e-01,\n",
       "        1.2966584e-01],\n",
       "       [1.2695273e-02, 9.7994596e-01, 6.7464481e-03, 4.5562134e-04,\n",
       "        1.5663297e-04],\n",
       "       [3.9383885e-03, 1.5001566e-02, 1.0765325e-01, 6.8450326e-01,\n",
       "        1.8890348e-01],\n",
       "       ...,\n",
       "       [8.8607349e-06, 2.9584905e-06, 8.7921704e-05, 2.0371325e-02,\n",
       "        9.7952890e-01],\n",
       "       [8.4789418e-02, 3.1217036e-01, 2.3368721e-01, 2.2975755e-01,\n",
       "        1.3959545e-01],\n",
       "       [2.5518352e-02, 5.4387856e-01, 2.8070349e-01, 1.1117963e-01,\n",
       "        3.8720019e-02]], dtype=float32)"
      ]
     },
     "execution_count": 12,
     "metadata": {},
     "output_type": "execute_result"
    }
   ],
   "execution_count": 12
  },
  {
   "metadata": {
    "ExecuteTime": {
     "end_time": "2025-04-23T16:09:11.730714Z",
     "start_time": "2025-04-23T16:09:11.727627Z"
    }
   },
   "cell_type": "code",
   "source": [
    "# Get the prediction based on argmax\n",
    "import numpy as np\n",
    "y_pred_classes = np.argmax(y_pred, axis=1)"
   ],
   "id": "d804854d1191649c",
   "outputs": [],
   "execution_count": 13
  },
  {
   "metadata": {
    "ExecuteTime": {
     "end_time": "2025-04-23T16:09:11.854202Z",
     "start_time": "2025-04-23T16:09:11.851110Z"
    }
   },
   "cell_type": "code",
   "source": "y_pred_classes",
   "id": "75137d75288c6fae",
   "outputs": [
    {
     "data": {
      "text/plain": [
       "array([3, 1, 3, ..., 4, 1, 1])"
      ]
     },
     "execution_count": 14,
     "metadata": {},
     "output_type": "execute_result"
    }
   ],
   "execution_count": 14
  },
  {
   "metadata": {
    "ExecuteTime": {
     "end_time": "2025-04-23T16:09:12.180113Z",
     "start_time": "2025-04-23T16:09:11.861885Z"
    }
   },
   "cell_type": "code",
   "source": [
    "# Print classification report\n",
    "from sklearn.metrics import accuracy_score, classification_report\n",
    "print(classification_report(y_test, y_pred_classes))"
   ],
   "id": "67230ea719bae2b4",
   "outputs": [
    {
     "name": "stdout",
     "output_type": "stream",
     "text": [
      "              precision    recall  f1-score   support\n",
      "\n",
      "           0       0.72      0.71      0.72      5954\n",
      "           1       0.62      0.60      0.61      5953\n",
      "           2       0.60      0.62      0.61      5954\n",
      "           3       0.58      0.60      0.59      5954\n",
      "           4       0.69      0.67      0.68      5954\n",
      "\n",
      "    accuracy                           0.64     29769\n",
      "   macro avg       0.64      0.64      0.64     29769\n",
      "weighted avg       0.64      0.64      0.64     29769\n",
      "\n"
     ]
    }
   ],
   "execution_count": 15
  },
  {
   "metadata": {
    "ExecuteTime": {
     "end_time": "2025-04-23T16:09:12.224828Z",
     "start_time": "2025-04-23T16:09:12.220311Z"
    }
   },
   "cell_type": "code",
   "source": "accuracy_score(y_test, y_pred_classes)",
   "id": "f9ae07bb40d1e35f",
   "outputs": [
    {
     "data": {
      "text/plain": [
       "0.6392220094729416"
      ]
     },
     "execution_count": 16,
     "metadata": {},
     "output_type": "execute_result"
    }
   ],
   "execution_count": 16
  },
  {
   "metadata": {
    "ExecuteTime": {
     "end_time": "2025-04-23T16:09:12.900636Z",
     "start_time": "2025-04-23T16:09:12.268837Z"
    }
   },
   "cell_type": "code",
   "source": [
    "import matplotlib.pyplot as plt\n",
    "\n",
    "# Get metrics from training history\n",
    "train_acc = history.history['accuracy']\n",
    "val_acc = history.history['val_accuracy']\n",
    "train_loss = history.history['loss']\n",
    "val_loss = history.history['val_loss']\n",
    "\n",
    "# Create subplots\n",
    "plt.figure(figsize=(12, 5))\n",
    "\n",
    "# accuracy curves\n",
    "plt.subplot(1, 2, 1)\n",
    "plt.plot(train_acc, marker='o', label='Training Accuracy')\n",
    "plt.plot(val_acc, marker='s', linestyle='--', label='Validation Accuracy')\n",
    "plt.title('Accuracy vs. Epochs')\n",
    "plt.xlabel('Epoch')\n",
    "plt.ylabel('Accuracy')\n",
    "plt.ylim([0, 1])  # For classification tasks\n",
    "plt.grid(True)\n",
    "plt.legend()\n",
    "\n",
    "# loss curves\n",
    "plt.subplot(1, 2, 2)\n",
    "plt.plot(train_loss, marker='o', label='Training Loss')\n",
    "plt.plot(val_loss, marker='s', linestyle='--', label='Validation Loss')\n",
    "plt.title('Loss vs. Epochs')\n",
    "plt.xlabel('Epoch')\n",
    "plt.ylabel('Loss')\n",
    "plt.grid(True)\n",
    "plt.legend()\n",
    "\n",
    "plt.tight_layout()\n",
    "plt.show()\n",
    "\n",
    "\n"
   ],
   "id": "3ffc2d2937a8392b",
   "outputs": [
    {
     "data": {
      "text/plain": [
       "<Figure size 1200x500 with 2 Axes>"
      ],
      "image/png": "[encoded data removed]"
     },
     "metadata": {},
     "output_type": "display_data"
    }
   ],
   "execution_count": 17
  }
 ],
 "metadata": {
  "kernelspec": {
   "display_name": "Python 3",
   "language": "python",
   "name": "python3"
  },
  "language_info": {
   "codemirror_mode": {
    "name": "ipython",
    "version": 2
   },
   "file_extension": ".py",
   "mimetype": "text/x-python",
   "name": "python",
   "nbconvert_exporter": "python",
   "pygments_lexer": "ipython2",
   "version": "2.7.6"
  }
 },
 "nbformat": 4,
 "nbformat_minor": 5
}
